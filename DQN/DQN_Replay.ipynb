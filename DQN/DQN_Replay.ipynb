{
 "cells": [
  {
   "cell_type": "code",
   "execution_count": 1,
   "id": "53fd59c8",
   "metadata": {},
   "outputs": [],
   "source": [
    "import gym\n",
    "import random\n",
    "import torch\n",
    "import numpy as np\n",
    "from collections import deque\n",
    "import matplotlib.pyplot as plt\n",
    "import seaborn"
   ]
  },
  {
   "cell_type": "code",
   "execution_count": 2,
   "id": "3e26d0f5",
   "metadata": {},
   "outputs": [
    {
     "name": "stderr",
     "output_type": "stream",
     "text": [
      "/home/jerry/anaconda3/envs/mujoco_py/lib/python3.8/site-packages/ipykernel/ipkernel.py:283: DeprecationWarning: `should_run_async` will not call `transform_cell` automatically in the future. Please pass the result to `transformed_cell` argument and any exception that happen during thetransform in `preprocessing_exc_tuple` in IPython 7.17 and above.\n",
      "  and should_run_async(code)\n"
     ]
    },
    {
     "name": "stdout",
     "output_type": "stream",
     "text": [
      "The dimension of the state space is:  11\n",
      "The dimension of the action space is:  20\n"
     ]
    }
   ],
   "source": [
    "envName = 'InvertedDoublePendulum-v2'\n",
    "env = gym.make(envName)\n",
    "env.reset(seed=0)\n",
    "stateDim = env.observation_space.shape[0]\n",
    "actionSpace = np.linspace(-1, 1, 20)\n",
    "actionDim = actionSpace.shape[0]\n",
    "print('The dimension of the state space is: ', stateDim)\n",
    "print('The dimension of the action space is: ', actionDim)\n"
   ]
  },
  {
   "cell_type": "code",
   "execution_count": 3,
   "id": "f4d8aa3f",
   "metadata": {},
   "outputs": [],
   "source": [
    "from dqn_agent import Agent\n",
    "\n",
    "agent = Agent(state_size=stateDim, action_size=actionDim, action_space = actionSpace, seed=0)"
   ]
  },
  {
   "cell_type": "code",
   "execution_count": null,
   "id": "42d9378e",
   "metadata": {},
   "outputs": [
    {
     "name": "stdout",
     "output_type": "stream",
     "text": [
      "Creating window glfw\n"
     ]
    }
   ],
   "source": [
    "# load the weights from file\n",
    "agent.actor.load_state_dict(torch.load(envName+'checkpoint_20.pth'))\n",
    "\n",
    "for i in range(100):\n",
    "    state = env.reset()\n",
    "    for j in range(200):\n",
    "        actionRaw = agent.act(state)\n",
    "        action = np.array([actionRaw])\n",
    "        env.render()\n",
    "        state, reward, done, _ = env.step(action)\n",
    "#         if done:\n",
    "#             break \n",
    "            \n",
    "env.close()"
   ]
  },
  {
   "cell_type": "code",
   "execution_count": null,
   "id": "b13ceed7",
   "metadata": {},
   "outputs": [],
   "source": []
  }
 ],
 "metadata": {
  "kernelspec": {
   "display_name": "Python 3",
   "language": "python",
   "name": "python3"
  },
  "language_info": {
   "codemirror_mode": {
    "name": "ipython",
    "version": 3
   },
   "file_extension": ".py",
   "mimetype": "text/x-python",
   "name": "python",
   "nbconvert_exporter": "python",
   "pygments_lexer": "ipython3",
   "version": "3.8.12"
  }
 },
 "nbformat": 4,
 "nbformat_minor": 5
}
