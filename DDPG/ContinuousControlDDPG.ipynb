{
 "cells": [
  {
   "cell_type": "markdown",
   "metadata": {},
   "source": [
    "## Mujoco"
   ]
  },
  {
   "cell_type": "code",
   "execution_count": 1,
   "metadata": {
    "scrolled": true
   },
   "outputs": [
    {
     "name": "stdout",
     "output_type": "stream",
     "text": [
      "Current device is: cuda:0\n",
      "The GPU model is:  NVIDIA GeForce RTX 3070 Ti\n"
     ]
    }
   ],
   "source": [
    "import random\n",
    "import torch\n",
    "from collections import deque\n",
    "import matplotlib.pyplot as plt\n",
    "%matplotlib inline\n",
    "import gym\n",
    "import numpy as np\n",
    "import ddpg_agent\n",
    "from ddpg_agent import Agent"
   ]
  },
  {
   "cell_type": "code",
   "execution_count": 2,
   "metadata": {},
   "outputs": [
    {
     "name": "stderr",
     "output_type": "stream",
     "text": [
      "/home/jerry/anaconda3/envs/mujoco_py/lib/python3.8/site-packages/ipykernel/ipkernel.py:283: DeprecationWarning: `should_run_async` will not call `transform_cell` automatically in the future. Please pass the result to `transformed_cell` argument and any exception that happen during thetransform in `preprocessing_exc_tuple` in IPython 7.17 and above.\n",
      "  and should_run_async(code)\n"
     ]
    },
    {
     "name": "stdout",
     "output_type": "stream",
     "text": [
      "The dimension of the state space is:  11\n",
      "The dimension of the action space is:  1\n"
     ]
    }
   ],
   "source": [
    "envName = 'InvertedDoublePendulum-v2'\n",
    "env = gym.make(envName)\n",
    "env.reset(seed=0)\n",
    "stateDim = env.observation_space.shape[0]\n",
    "actionDim = env.action_space.shape[0]\n",
    "print('The dimension of the state space is: ', stateDim)\n",
    "print('The dimension of the action space is: ', actionDim)"
   ]
  },
  {
   "cell_type": "code",
   "execution_count": 3,
   "metadata": {},
   "outputs": [],
   "source": [
    "agents = Agent(state_size=stateDim, action_size=actionDim, random_seed=0, num_agents = 1) # instantiate the agent"
   ]
  },
  {
   "cell_type": "code",
   "execution_count": 4,
   "metadata": {},
   "outputs": [],
   "source": [
    "n_episodes = 20000\n",
    "max_t = 1000\n",
    "print_every = 100\n",
    "\n",
    "scores_deque = deque(maxlen=print_every)\n",
    "scores = []\n",
    "last_mean_score = 30\n",
    "plot_score = []\n",
    "mark = []"
   ]
  },
  {
   "cell_type": "code",
   "execution_count": null,
   "metadata": {
    "scrolled": false
   },
   "outputs": [
    {
     "name": "stderr",
     "output_type": "stream",
     "text": [
      "/home/jerry/anaconda3/envs/mujoco_py/lib/python3.8/site-packages/torch/nn/functional.py:1933: UserWarning: nn.functional.tanh is deprecated. Use torch.tanh instead.\n",
      "  warnings.warn(\"nn.functional.tanh is deprecated. Use torch.tanh instead.\")\n"
     ]
    },
    {
     "name": "stdout",
     "output_type": "stream",
     "text": [
      "Episode 100\tAverage Score: 42.23\n",
      "Episode 200\tAverage Score: 30.83\n",
      "Episode 300\tAverage Score: 31.52\n",
      "Episode 400\tAverage Score: 31.73\n",
      "Episode 500\tAverage Score: 31.54\n",
      "Episode 600\tAverage Score: 64.36\n",
      "Episode 700\tAverage Score: 75.76\n",
      "Episode 800\tAverage Score: 74.18\n",
      "Episode 900\tAverage Score: 85.86\n",
      "Episode 1000\tAverage Score: 93.72\n",
      "Episode 1100\tAverage Score: 94.68\n",
      "Episode 1200\tAverage Score: 90.46\n",
      "Episode 1300\tAverage Score: 85.34\n",
      "Episode 1400\tAverage Score: 90.12\n",
      "Episode 1500\tAverage Score: 94.06\n",
      "Episode 1600\tAverage Score: 102.36\n",
      "Episode 1700\tAverage Score: 111.07\n",
      "Episode 1800\tAverage Score: 124.58\n",
      "Episode 1900\tAverage Score: 114.04\n",
      "Episode 2000\tAverage Score: 115.29\n",
      "Episode 2100\tAverage Score: 113.41\n",
      "Episode 2200\tAverage Score: 111.62\n",
      "Episode 2300\tAverage Score: 107.41\n",
      "Episode 2400\tAverage Score: 109.16\n",
      "Episode 2500\tAverage Score: 115.58\n",
      "Episode 2600\tAverage Score: 112.82\n",
      "Episode 2700\tAverage Score: 111.18\n",
      "Episode 2800\tAverage Score: 117.29\n",
      "Episode 2900\tAverage Score: 127.99\n",
      "Episode 3000\tAverage Score: 113.90\n",
      "Episode 3100\tAverage Score: 107.63\n",
      "Episode 3200\tAverage Score: 114.07\n",
      "Episode 3300\tAverage Score: 116.16\n",
      "Episode 3400\tAverage Score: 111.29\n",
      "Episode 3500\tAverage Score: 112.72\n",
      "Episode 3600\tAverage Score: 109.27\n",
      "Episode 3700\tAverage Score: 122.29\n",
      "Episode 3800\tAverage Score: 111.61\n",
      "Episode 3900\tAverage Score: 105.77\n",
      "Episode 4000\tAverage Score: 117.92\n",
      "Episode 4100\tAverage Score: 108.41\n",
      "Episode 4200\tAverage Score: 107.60\n",
      "Episode 4300\tAverage Score: 103.03\n",
      "Episode 4400\tAverage Score: 107.80\n",
      "Episode 4500\tAverage Score: 114.14\n",
      "Episode 4600\tAverage Score: 104.36\n",
      "Episode 4700\tAverage Score: 108.71\n",
      "Episode 4800\tAverage Score: 110.41\n",
      "Episode 4900\tAverage Score: 114.54\n",
      "Episode 5000\tAverage Score: 107.99\n",
      "Episode 5100\tAverage Score: 114.08\n",
      "Episode 5200\tAverage Score: 120.52\n",
      "Episode 5300\tAverage Score: 125.31\n",
      "Episode 5400\tAverage Score: 124.87\n",
      "Episode 5500\tAverage Score: 110.97\n",
      "Episode 5600\tAverage Score: 116.61\n",
      "Episode 5700\tAverage Score: 105.46\n",
      "Episode 5800\tAverage Score: 106.83\n",
      "Episode 5900\tAverage Score: 110.85\n",
      "Episode 6000\tAverage Score: 110.81\n",
      "Episode 6100\tAverage Score: 113.50\n",
      "Episode 6200\tAverage Score: 119.02\n",
      "Episode 6300\tAverage Score: 109.06\n",
      "Episode 6400\tAverage Score: 114.97\n",
      "Episode 6500\tAverage Score: 107.29\n",
      "Episode 6600\tAverage Score: 115.25\n",
      "Episode 6700\tAverage Score: 112.21\n",
      "Episode 6800\tAverage Score: 114.01\n",
      "Episode 6900\tAverage Score: 113.19\n",
      "Episode 7000\tAverage Score: 110.93\n",
      "Episode 7100\tAverage Score: 96.864\n",
      "Episode 7200\tAverage Score: 116.08\n",
      "Episode 7300\tAverage Score: 116.93\n",
      "Episode 7400\tAverage Score: 102.06\n",
      "Episode 7500\tAverage Score: 116.70\n",
      "Episode 7600\tAverage Score: 115.00\n",
      "Episode 7700\tAverage Score: 111.64\n",
      "Episode 7800\tAverage Score: 116.00\n",
      "Episode 7900\tAverage Score: 111.50\n",
      "Episode 8000\tAverage Score: 110.89\n",
      "Episode 8100\tAverage Score: 111.08\n",
      "Episode 8200\tAverage Score: 103.74\n",
      "Episode 8300\tAverage Score: 122.27\n",
      "Episode 8400\tAverage Score: 101.07\n",
      "Episode 8500\tAverage Score: 115.92\n",
      "Episode 8600\tAverage Score: 103.11\n",
      "Episode 8700\tAverage Score: 111.87\n",
      "Episode 8800\tAverage Score: 108.31\n",
      "Episode 8900\tAverage Score: 121.12\n",
      "Episode 9000\tAverage Score: 103.12\n",
      "Episode 9100\tAverage Score: 108.95\n",
      "Episode 9200\tAverage Score: 111.29\n",
      "Episode 9300\tAverage Score: 107.78\n",
      "Episode 9400\tAverage Score: 104.92\n",
      "Episode 9500\tAverage Score: 111.73\n",
      "Episode 9600\tAverage Score: 107.34\n",
      "Episode 9700\tAverage Score: 111.70\n",
      "Episode 9800\tAverage Score: 105.29\n",
      "Episode 9900\tAverage Score: 103.00\n",
      "Episode 10000\tAverage Score: 112.91\n",
      "Episode 10100\tAverage Score: 102.83\n",
      "Episode 10200\tAverage Score: 111.95\n",
      "Episode 10300\tAverage Score: 106.47\n",
      "Episode 10400\tAverage Score: 105.85\n",
      "Episode 10500\tAverage Score: 115.32\n",
      "Episode 10600\tAverage Score: 113.91\n",
      "Episode 10700\tAverage Score: 108.56\n",
      "Episode 10800\tAverage Score: 112.07\n",
      "Episode 10900\tAverage Score: 102.06\n",
      "Episode 11000\tAverage Score: 121.11\n",
      "Episode 11100\tAverage Score: 113.34\n",
      "Episode 11200\tAverage Score: 111.30\n",
      "Episode 11300\tAverage Score: 109.90\n",
      "Episode 11400\tAverage Score: 115.55\n",
      "Episode 11500\tAverage Score: 104.81\n",
      "Episode 11600\tAverage Score: 106.84\n",
      "Episode 11700\tAverage Score: 124.00\n",
      "Episode 11800\tAverage Score: 115.80\n",
      "Episode 11900\tAverage Score: 109.47\n",
      "Episode 12000\tAverage Score: 125.45\n",
      "Episode 12100\tAverage Score: 102.09\n",
      "Episode 12200\tAverage Score: 124.81\n",
      "Episode 12300\tAverage Score: 111.48\n",
      "Episode 12400\tAverage Score: 106.39\n",
      "Episode 12500\tAverage Score: 119.36\n",
      "Episode 12600\tAverage Score: 103.83\n",
      "Episode 12660\tAverage Score: 119.03"
     ]
    }
   ],
   "source": [
    "for i_episode in range(1, n_episodes+1):\n",
    "    states = env.reset()\n",
    "#     states = env_info.vector_observations\n",
    "    \n",
    "    agents.reset() # set the noise to zero\n",
    "    score = 0\n",
    "    for t in range(max_t):\n",
    "        \n",
    "#         print(len(states))\n",
    "        actionRaw = agents.act(states) \n",
    "#         print(np.squeeze(actions, axis=0))\n",
    "        actions = np.squeeze(actionRaw, axis=0)\n",
    "\n",
    "        next_states, rewards, dones, _ = env.step(actions)\n",
    "                           \n",
    "\n",
    "        agents.step(states, actionRaw, rewards, next_states, dones)\n",
    "\n",
    "        states = next_states\n",
    "        score += rewards\n",
    "        if np.any(dones):\n",
    "            break \n",
    "    scores_deque.append(np.mean(score))\n",
    "    scores.append(np.mean(score))\n",
    "    print('\\rEpisode {}\\tAverage Score: {:.2f}'.format(i_episode, np.mean(scores_deque)), end=\"\")\n",
    "    if i_episode % print_every == 0:\n",
    "        print('\\rEpisode {}\\tAverage Score: {:.2f}'.format(i_episode, np.mean(scores_deque)))\n",
    "        plot_score.append(np.mean(scores_deque))\n",
    "        mark.append(i_episode)\n",
    "    if len(scores_deque) == print_every:\n",
    "        mean_score = np.mean(scores_deque)\n",
    "        if mean_score > last_mean_score:\n",
    "            torch.save(agents.actor_local.state_dict(), 'checkpoint_actor.pth')\n",
    "            torch.save(agents.critic_local.state_dict(), 'checkpoint_critic.pth')\n",
    "            last_mean_score = mean_score\n",
    "\n"
   ]
  },
  {
   "cell_type": "code",
   "execution_count": 13,
   "metadata": {},
   "outputs": [
    {
     "data": {
      "image/png": "[encoded data removed]",
      "text/plain": [
       "<Figure size 432x288 with 1 Axes>"
      ]
     },
     "metadata": {
      "needs_background": "light"
     },
     "output_type": "display_data"
    }
   ],
   "source": [
    "fig = plt.figure()\n",
    "ax = fig.add_subplot(111)\n",
    "plt.plot(np.arange(1, len(scores)+1), scores)\n",
    "plt.ylabel('Score')\n",
    "plt.xlabel('Episode #')\n",
    "plt.show()"
   ]
  },
  {
   "cell_type": "markdown",
   "metadata": {},
   "source": [
    "### 5. Replay the trained agent\n",
    "By using the trained actor and critic network, we can replay the agent"
   ]
  },
  {
   "cell_type": "code",
   "execution_count": 1,
   "metadata": {},
   "outputs": [
    {
     "name": "stdout",
     "output_type": "stream",
     "text": [
      "Current device is: cuda:0\n",
      "The GPU model is:  NVIDIA GeForce RTX 2060 SUPER\n"
     ]
    }
   ],
   "source": [
    "from unityagents import UnityEnvironment\n",
    "import numpy as np\n",
    "import random\n",
    "import torch\n",
    "from collections import deque\n",
    "import matplotlib.pyplot as plt\n",
    "%matplotlib inline\n",
    "import ddpg_agent\n",
    "from ddpg_agent import Agent"
   ]
  },
  {
   "cell_type": "code",
   "execution_count": 3,
   "metadata": {},
   "outputs": [
    {
     "name": "stderr",
     "output_type": "stream",
     "text": [
      "INFO:unityagents:\n",
      "'Academy' started successfully!\n",
      "Unity Academy name: Academy\n",
      "        Number of Brains: 1\n",
      "        Number of External Brains : 1\n",
      "        Lesson number : 0\n",
      "        Reset Parameters :\n",
      "\t\tgoal_speed -> 1.0\n",
      "\t\tgoal_size -> 5.0\n",
      "Unity brain name: ReacherBrain\n",
      "        Number of Visual Observations (per agent): 0\n",
      "        Vector Observation space type: continuous\n",
      "        Vector Observation space size (per agent): 33\n",
      "        Number of stacked Vector Observation: 1\n",
      "        Vector Action space type: continuous\n",
      "        Vector Action space size (per agent): 4\n",
      "        Vector Action descriptions: , , , \n"
     ]
    }
   ],
   "source": [
    "env = UnityEnvironment(file_name='Reacher_Linux_single/Reacher_Linux/Reacher.x86_64')\n",
    "brain_name = env.brain_names[0]\n",
    "brain = env.brains[brain_name]"
   ]
  },
  {
   "cell_type": "code",
   "execution_count": 5,
   "metadata": {},
   "outputs": [
    {
     "name": "stdout",
     "output_type": "stream",
     "text": [
      "Number of agents: 1\n",
      "Size of each action: 4\n",
      "There are 1 agents. Each observes a state with length: 33\n",
      "The state for the first agent looks like: [ 0.00000000e+00 -4.00000000e+00  0.00000000e+00  1.00000000e+00\n",
      " -0.00000000e+00 -0.00000000e+00 -4.37113883e-08  0.00000000e+00\n",
      "  0.00000000e+00  0.00000000e+00  0.00000000e+00  0.00000000e+00\n",
      "  0.00000000e+00  0.00000000e+00 -1.00000000e+01  0.00000000e+00\n",
      "  1.00000000e+00 -0.00000000e+00 -0.00000000e+00 -4.37113883e-08\n",
      "  0.00000000e+00  0.00000000e+00  0.00000000e+00  0.00000000e+00\n",
      "  0.00000000e+00  0.00000000e+00  5.75471878e+00 -1.00000000e+00\n",
      "  5.55726671e+00  0.00000000e+00  1.00000000e+00  0.00000000e+00\n",
      " -1.68164849e-01]\n"
     ]
    }
   ],
   "source": [
    "# reset the environment\n",
    "env_info = env.reset(train_mode=True)[brain_name]\n",
    "\n",
    "# number of agents\n",
    "num_agents = len(env_info.agents)\n",
    "print('Number of agents:', num_agents)\n",
    "\n",
    "# size of each action\n",
    "action_size = brain.vector_action_space_size\n",
    "print('Size of each action:', action_size)\n",
    "\n",
    "# examine the state space \n",
    "states = env_info.vector_observations\n",
    "state_size = states.shape[1]\n",
    "print('There are {} agents. Each observes a state with length: {}'.format(states.shape[0], state_size))\n",
    "print('The state for the first agent looks like:', states[0])"
   ]
  },
  {
   "cell_type": "code",
   "execution_count": 6,
   "metadata": {},
   "outputs": [],
   "source": [
    "agents = Agent(state_size=state_size, action_size=action_size, random_seed=0, num_agents = num_agents) # instantiate the agent"
   ]
  },
  {
   "cell_type": "code",
   "execution_count": 7,
   "metadata": {},
   "outputs": [
    {
     "name": "stderr",
     "output_type": "stream",
     "text": [
      "/home/jerry/anaconda3/envs/drlnd/lib/python3.6/site-packages/torch/nn/functional.py:1628: UserWarning: nn.functional.tanh is deprecated. Use torch.tanh instead.\n",
      "  warnings.warn(\"nn.functional.tanh is deprecated. Use torch.tanh instead.\")\n"
     ]
    }
   ],
   "source": [
    "# load the weights from file\n",
    "agents.actor_local.load_state_dict(torch.load('checkpoint_actor.pth'))\n",
    "agents.critic_local.load_state_dict(torch.load('checkpoint_critic.pth'))\n",
    "\n",
    "for i in range(10):\n",
    "    env_info = env.reset(train_mode=False)[brain_name]\n",
    "    state = env_info.vector_observations\n",
    "    for j in range(200):\n",
    "        action = agents.act(state)\n",
    "        env_info = env.step(action)[brain_name]\n",
    "        state = env_info.vector_observations\n",
    "        reward = env_info.rewards\n",
    "        done = env_info.local_done\n",
    "        if np.any(done):\n",
    "            break \n",
    "            \n",
    "env.close()"
   ]
  },
  {
   "cell_type": "code",
   "execution_count": 3,
   "metadata": {},
   "outputs": [],
   "source": [
    "import numpy as np\n",
    "import random\n",
    "x = 5\n",
    "a = np.array([random.random() for i in range(5)])\n",
    "b = np.random.normal(0, 1, 5)"
   ]
  },
  {
   "cell_type": "code",
   "execution_count": 4,
   "metadata": {},
   "outputs": [
    {
     "name": "stdout",
     "output_type": "stream",
     "text": [
      "[0.18906067 0.1681117  0.76342685 0.20684127 0.23792938]\n"
     ]
    }
   ],
   "source": [
    "print(a)"
   ]
  },
  {
   "cell_type": "code",
   "execution_count": 5,
   "metadata": {},
   "outputs": [
    {
     "name": "stdout",
     "output_type": "stream",
     "text": [
      "[-1.04171779 -0.39351587  1.38651289  0.62953946  0.3932983 ]\n"
     ]
    }
   ],
   "source": [
    "print(b)"
   ]
  },
  {
   "cell_type": "code",
   "execution_count": null,
   "metadata": {},
   "outputs": [],
   "source": []
  }
 ],
 "metadata": {
  "kernelspec": {
   "display_name": "Python 3",
   "language": "python",
   "name": "python3"
  },
  "language_info": {
   "codemirror_mode": {
    "name": "ipython",
    "version": 3
   },
   "file_extension": ".py",
   "mimetype": "text/x-python",
   "name": "python",
   "nbconvert_exporter": "python",
   "pygments_lexer": "ipython3",
   "version": "3.8.12"
  }
 },
 "nbformat": 4,
 "nbformat_minor": 2
}
